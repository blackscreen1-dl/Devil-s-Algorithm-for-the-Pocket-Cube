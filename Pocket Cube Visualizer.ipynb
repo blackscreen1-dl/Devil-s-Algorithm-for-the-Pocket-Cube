{
 "cells": [
  {
   "cell_type": "code",
   "execution_count": 1,
   "id": "c8e9538d",
   "metadata": {},
   "outputs": [],
   "source": [
    "import numpy as np\n",
    "from mpl_toolkits.mplot3d import Axes3D  \n",
    "# Axes3D import has side effects, it enables using projection='3d' in add_subplot\n",
    "import matplotlib.pyplot as plt\n",
    "\n",
    "import copy"
   ]
  },
  {
   "cell_type": "code",
   "execution_count": 2,
   "id": "a1a9176b",
   "metadata": {},
   "outputs": [],
   "source": [
    "#%matplotlib notebook"
   ]
  },
  {
   "cell_type": "code",
   "execution_count": 3,
   "id": "0e296706",
   "metadata": {},
   "outputs": [],
   "source": [
    "class cube_visualizer:\n",
    "    #hardcoded he colors of the rubik cube\n",
    "    color=[\n",
    "        \"#fefefe\", #white\n",
    "        \"#ff0000\", #red\n",
    "        \"#0000ff\", #blue\n",
    "        \"#ffa500\", #orange\n",
    "        \"#00ff00\", #green\n",
    "        \"#ffff00\" #yellow\n",
    "    ]\n",
    "    \n",
    "    def add_surface(ax,x,y,z,direction,rgba): #helper function to add flat surface (with color) on a mathplotlib graph\n",
    "        #(x,y,z) coordinate of origin of the surface\n",
    "        #direction:\n",
    "        #    0 - xy\n",
    "        #    1 - yz\n",
    "        #    2 - xz\n",
    "\n",
    "        p1=np.array([[0,0],[1,1]])\n",
    "        p2=np.array([[0,1],[0,1]])\n",
    "        d=np.array([[0,0],[0,0]])\n",
    "\n",
    "        if (direction==0):\n",
    "            ax.plot_surface(p1+x,p2+y,d+z,color=rgba)\n",
    "        elif (direction==1):\n",
    "            ax.plot_surface(d+x,p1+y,p2+z,color=rgba)\n",
    "        else :\n",
    "            ax.plot_surface(p1+x,d+y,p2+z,color=rgba)\n",
    "            \n",
    "    def plot_cube(ax,colors):\n",
    "        #U\n",
    "        cube_visualizer.add_surface(ax,0,1,2,0,cube_visualizer.color[colors[0][0]])\n",
    "        cube_visualizer.add_surface(ax,1,1,2,0,cube_visualizer.color[colors[0][1]])\n",
    "        cube_visualizer.add_surface(ax,1,0,2,0,cube_visualizer.color[colors[0][2]])\n",
    "        cube_visualizer.add_surface(ax,0,0,2,0,cube_visualizer.color[colors[0][3]])\n",
    "        \n",
    "        #L\n",
    "        cube_visualizer.add_surface(ax,0,1,1,1,cube_visualizer.color[colors[1][0]])\n",
    "        cube_visualizer.add_surface(ax,0,0,1,1,cube_visualizer.color[colors[1][1]])\n",
    "        cube_visualizer.add_surface(ax,0,0,0,1,cube_visualizer.color[colors[1][2]])\n",
    "        cube_visualizer.add_surface(ax,0,1,0,1,cube_visualizer.color[colors[1][3]])\n",
    "        \n",
    "        #F\n",
    "        cube_visualizer.add_surface(ax,0,0,1,2,cube_visualizer.color[colors[2][0]])\n",
    "        cube_visualizer.add_surface(ax,1,0,1,2,cube_visualizer.color[colors[2][1]])\n",
    "        cube_visualizer.add_surface(ax,1,0,0,2,cube_visualizer.color[colors[2][2]])\n",
    "        cube_visualizer.add_surface(ax,0,0,0,2,cube_visualizer.color[colors[2][3]])\n",
    "        \n",
    "        #R\n",
    "        cube_visualizer.add_surface(ax,2,0,1,1,cube_visualizer.color[colors[3][0]])\n",
    "        cube_visualizer.add_surface(ax,2,1,1,1,cube_visualizer.color[colors[3][1]])\n",
    "        cube_visualizer.add_surface(ax,2,1,0,1,cube_visualizer.color[colors[3][2]])\n",
    "        cube_visualizer.add_surface(ax,2,0,0,1,cube_visualizer.color[colors[3][3]])\n",
    "        \n",
    "        #B\n",
    "        cube_visualizer.add_surface(ax,1,2,1,2,cube_visualizer.color[colors[4][0]])\n",
    "        cube_visualizer.add_surface(ax,0,2,1,2,cube_visualizer.color[colors[4][1]])\n",
    "        cube_visualizer.add_surface(ax,0,2,0,2,cube_visualizer.color[colors[4][2]])\n",
    "        cube_visualizer.add_surface(ax,1,2,0,2,cube_visualizer.color[colors[4][3]])\n",
    "        \n",
    "        #D\n",
    "        cube_visualizer.add_surface(ax,0,0,0,0,cube_visualizer.color[colors[5][0]])\n",
    "        cube_visualizer.add_surface(ax,1,0,0,0,cube_visualizer.color[colors[5][1]])\n",
    "        cube_visualizer.add_surface(ax,1,1,0,0,cube_visualizer.color[colors[5][2]])\n",
    "        cube_visualizer.add_surface(ax,0,1,0,0,cube_visualizer.color[colors[5][3]])\n",
    "            \n",
    "    def default_cube(): #just to test the color scheme on a 1x1x1 cube\n",
    "        fig = plt.figure()\n",
    "        ax = fig.add_subplot(111, projection='3d')\n",
    "\n",
    "        cube_visualizer.add_surface(ax,0,0,1,0,cube_visualizer.color[0])\n",
    "        cube_visualizer.add_surface(ax,0,0,0,1,cube_visualizer.color[1])\n",
    "        cube_visualizer.add_surface(ax,0,0,0,2,cube_visualizer.color[2])\n",
    "        cube_visualizer.add_surface(ax,1,0,0,1,cube_visualizer.color[3])\n",
    "        cube_visualizer.add_surface(ax,0,1,0,2,cube_visualizer.color[4])\n",
    "        cube_visualizer.add_surface(ax,0,0,0,0,cube_visualizer.color[5])\n",
    "\n",
    "        plt.axis(\"off\")\n",
    "\n",
    "        plt.show()"
   ]
  },
  {
   "cell_type": "code",
   "execution_count": 4,
   "id": "46391ca8",
   "metadata": {},
   "outputs": [],
   "source": [
    "class cube: #the class to represent the state of a cube\n",
    "    #each sticker of the cube will be represented as a number and stored in a 6x4 array\n",
    "    \n",
    "    #faces\n",
    "    #   0          U\n",
    "    # 1 2 3 4    L F R B\n",
    "    #   5          D\n",
    "    \n",
    "    #stickers\n",
    "    #      0 1\n",
    "    #      3 2\n",
    "    #  4 5 8 9 12 13 16 17\n",
    "    #  7 6 11 10 15 14 19 18\n",
    "    #      20 21\n",
    "    #      23 22\n",
    "    \n",
    "    #map the sticker to a color (color is defined in cube_visualizer)\n",
    "    color_scheme=[0]*4+[1]*4+[2]*4+[3]*4+[4]*4+[5]*4\n",
    "    \n",
    "    def __init__ (self): # create\n",
    "        self.arr=[\n",
    "            [0,1,2,3],\n",
    "            [4,5,6,7],\n",
    "            [8,9,10,11],\n",
    "            [12,13,14,15],\n",
    "            [16,17,18,19],\n",
    "            [20,21,22,23]\n",
    "        ]\n",
    "        \n",
    "    def get_colors(self):\n",
    "        col=copy.deepcopy(self.arr)\n",
    "        for i in range(6):\n",
    "            for j in range(4):\n",
    "                col[i][j]=cube.color_scheme[col[i][j]]\n",
    "                \n",
    "        return col\n",
    "    \n",
    "    #helper function to rotate stickers\n",
    "    def rotate(self,tup):\n",
    "        for i in range(len(tup)-2,-1,-1):\n",
    "            self.arr[tup[i][0]][tup[i][1]],self.arr[tup[i+1][0]][tup[i+1][1]]=self.arr[tup[i+1][0]][tup[i+1][1]],self.arr[tup[i][0]][tup[i][1]]\n",
    "    \n",
    "    #define the allowed moves (using quarter turn metric)\n",
    "    def U(self):\n",
    "        self.rotate([(0,0),(0,1),(0,2),(0,3)])\n",
    "        self.rotate([(4,0),(3,0),(2,0),(1,0)])\n",
    "        self.rotate([(4,1),(3,1),(2,1),(1,1)])\n",
    "        \n",
    "    def Up(self):\n",
    "        U()\n",
    "        U()\n",
    "        U()\n",
    "    "
   ]
  },
  {
   "cell_type": "code",
   "execution_count": 5,
   "id": "35331106",
   "metadata": {},
   "outputs": [
    {
     "data": {
      "image/png": "[encoded data removed]",
      "text/plain": [
       "<Figure size 432x288 with 1 Axes>"
      ]
     },
     "metadata": {
      "needs_background": "light"
     },
     "output_type": "display_data"
    }
   ],
   "source": [
    "cube_visualizer.default_cube()"
   ]
  },
  {
   "cell_type": "code",
   "execution_count": 6,
   "id": "4bf9b9c8",
   "metadata": {},
   "outputs": [
    {
     "data": {
      "text/plain": [
       "[[3, 0, 1, 2],\n",
       " [8, 9, 6, 7],\n",
       " [12, 13, 10, 11],\n",
       " [16, 17, 14, 15],\n",
       " [4, 5, 18, 19],\n",
       " [20, 21, 22, 23]]"
      ]
     },
     "execution_count": 6,
     "metadata": {},
     "output_type": "execute_result"
    }
   ],
   "source": [
    "c=cube()\n",
    "c.U()\n",
    "c.arr"
   ]
  },
  {
   "cell_type": "code",
   "execution_count": 8,
   "id": "397ae4ce",
   "metadata": {},
   "outputs": [
    {
     "data": {
      "image/png": "[encoded data removed]",
      "text/plain": [
       "<Figure size 432x288 with 1 Axes>"
      ]
     },
     "metadata": {
      "needs_background": "light"
     },
     "output_type": "display_data"
    }
   ],
   "source": [
    "fig = plt.figure()\n",
    "ax = fig.add_subplot(111, projection='3d')\n",
    "\n",
    "cube_visualizer.plot_cube(ax,c.get_colors())\n",
    "\n",
    "plt.axis(\"off\")\n",
    "\n",
    "plt.show()"
   ]
  },
  {
   "cell_type": "code",
   "execution_count": 9,
   "id": "cf13aa06",
   "metadata": {},
   "outputs": [],
   "source": [
    "c.U()"
   ]
  },
  {
   "cell_type": "code",
   "execution_count": null,
   "id": "247c924f",
   "metadata": {},
   "outputs": [],
   "source": []
  }
 ],
 "metadata": {
  "kernelspec": {
   "display_name": "test",
   "language": "python",
   "name": "test"
  },
  "language_info": {
   "codemirror_mode": {
    "name": "ipython",
    "version": 3
   },
   "file_extension": ".py",
   "mimetype": "text/x-python",
   "name": "python",
   "nbconvert_exporter": "python",
   "pygments_lexer": "ipython3",
   "version": "3.8.5"
  }
 },
 "nbformat": 4,
 "nbformat_minor": 5
}
