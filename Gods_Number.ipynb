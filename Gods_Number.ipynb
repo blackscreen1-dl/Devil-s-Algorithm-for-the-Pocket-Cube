{
 "cells": [
  {
   "cell_type": "code",
   "execution_count": 33,
   "metadata": {},
   "outputs": [],
   "source": [
    "from ipynb.fs.full.Pocket_Cube_Visualizer import cube_visualizer,cube\n",
    "\n",
    "import numpy as np\n",
    "import matplotlib.pyplot as plt\n",
    "\n",
    "import copy\n",
    "import queue"
   ]
  },
  {
   "cell_type": "code",
   "execution_count": 20,
   "metadata": {},
   "outputs": [
    {
     "name": "stdout",
     "output_type": "stream",
     "text": [
      "100000\n",
      "200000\n",
      "300000\n",
      "400000\n",
      "500000\n",
      "600000\n",
      "700000\n",
      "800000\n",
      "900000\n",
      "1000000\n",
      "1100000\n",
      "1200000\n",
      "1300000\n",
      "1400000\n",
      "1500000\n",
      "1600000\n",
      "1700000\n",
      "1800000\n",
      "1900000\n",
      "2000000\n",
      "2100000\n",
      "2200000\n",
      "2300000\n",
      "2400000\n",
      "2500000\n",
      "2600000\n",
      "2700000\n",
      "2800000\n",
      "2900000\n",
      "3000000\n",
      "3100000\n",
      "3200000\n",
      "3300000\n",
      "3400000\n",
      "3500000\n",
      "3600000\n"
     ]
    }
   ],
   "source": [
    "w={} #map of id->w\n",
    "\n",
    "c=cube()\n",
    "\n",
    "q=queue.Queue()\n",
    "q.put(c)\n",
    "w[c.get_id()]=0\n",
    "\n",
    "while (not q.empty()):\n",
    "    c=q.get()\n",
    "    \n",
    "    for x in range(6):\n",
    "        c2=copy.deepcopy(c)\n",
    "        \n",
    "        if (x==0): c2.U()\n",
    "        if (x==1): c2.Up()\n",
    "        if (x==2): c2.L()\n",
    "        if (x==3): c2.Lp()\n",
    "        if (x==4): c2.F()\n",
    "        if (x==5): c2.Fp()\n",
    "        \n",
    "        if c2.get_id() not in w:\n",
    "            q.put(c2)\n",
    "            w[c2.get_id()]=w[c.get_id()]+1\n",
    "            \n",
    "            if (len(w)%100000==0):\n",
    "                print(len(w))\n"
   ]
  },
  {
   "cell_type": "code",
   "execution_count": 23,
   "metadata": {},
   "outputs": [
    {
     "data": {
      "text/plain": [
       "3674160"
      ]
     },
     "execution_count": 23,
     "metadata": {},
     "output_type": "execute_result"
    }
   ],
   "source": [
    "len(w)"
   ]
  },
  {
   "cell_type": "code",
   "execution_count": 26,
   "metadata": {},
   "outputs": [],
   "source": [
    "cnt=[0]*20"
   ]
  },
  {
   "cell_type": "code",
   "execution_count": 27,
   "metadata": {},
   "outputs": [],
   "source": [
    "for (key,value) in w.items():\n",
    "    cnt[value]+=1"
   ]
  },
  {
   "cell_type": "code",
   "execution_count": 28,
   "metadata": {},
   "outputs": [
    {
     "data": {
      "text/plain": [
       "[1,\n",
       " 6,\n",
       " 27,\n",
       " 120,\n",
       " 534,\n",
       " 2256,\n",
       " 8969,\n",
       " 33058,\n",
       " 114149,\n",
       " 360508,\n",
       " 930588,\n",
       " 1350852,\n",
       " 782536,\n",
       " 90280,\n",
       " 276,\n",
       " 0,\n",
       " 0,\n",
       " 0,\n",
       " 0,\n",
       " 0]"
      ]
     },
     "execution_count": 28,
     "metadata": {},
     "output_type": "execute_result"
    }
   ],
   "source": [
    "cnt"
   ]
  },
  {
   "cell_type": "code",
   "execution_count": 44,
   "metadata": {},
   "outputs": [
    {
     "data": {
      "image/png": "[encoded data removed]",
      "text/plain": [
       "<Figure size 432x288 with 1 Axes>"
      ]
     },
     "metadata": {
      "needs_background": "light"
     },
     "output_type": "display_data"
    }
   ],
   "source": [
    "plt.bar(np.linspace(0,19,20),cnt)\n",
    "plt.yscale('log')"
   ]
  },
  {
   "cell_type": "code",
   "execution_count": null,
   "metadata": {},
   "outputs": [],
   "source": []
  }
 ],
 "metadata": {
  "kernelspec": {
   "display_name": "Python 3",
   "language": "python",
   "name": "python3"
  },
  "language_info": {
   "codemirror_mode": {
    "name": "ipython",
    "version": 3
   },
   "file_extension": ".py",
   "mimetype": "text/x-python",
   "name": "python",
   "nbconvert_exporter": "python",
   "pygments_lexer": "ipython3",
   "version": "3.7.6"
  }
 },
 "nbformat": 4,
 "nbformat_minor": 4
}
